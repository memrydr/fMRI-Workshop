{
 "cells": [
  {
   "cell_type": "code",
   "execution_count": 1,
   "metadata": {},
   "outputs": [
    {
     "ename": "SyntaxError",
     "evalue": "invalid syntax (<ipython-input-1-cb127186e698>, line 1)",
     "output_type": "error",
     "traceback": [
      "\u001b[0;36m  File \u001b[0;32m\"<ipython-input-1-cb127186e698>\"\u001b[0;36m, line \u001b[0;32m1\u001b[0m\n\u001b[0;31m    Skullstripping with BET\u001b[0m\n\u001b[0m                      ^\u001b[0m\n\u001b[0;31mSyntaxError\u001b[0m\u001b[0;31m:\u001b[0m invalid syntax\n"
     ]
    }
   ],
   "source": [
    "Skullstripping with BET"
   ]
  },
  {
   "cell_type": "code",
   "execution_count": 2,
   "metadata": {},
   "outputs": [
    {
     "ename": "SyntaxError",
     "evalue": "invalid syntax (<ipython-input-2-cb127186e698>, line 1)",
     "output_type": "error",
     "traceback": [
      "\u001b[0;36m  File \u001b[0;32m\"<ipython-input-2-cb127186e698>\"\u001b[0;36m, line \u001b[0;32m1\u001b[0m\n\u001b[0;31m    Skullstripping with BET\u001b[0m\n\u001b[0m                      ^\u001b[0m\n\u001b[0;31mSyntaxError\u001b[0m\u001b[0;31m:\u001b[0m invalid syntax\n"
     ]
    }
   ],
   "source": [
    "Skullstripping with BET"
   ]
  },
  {
   "cell_type": "markdown",
   "metadata": {},
   "source": [
    "# Skullstripping with BET"
   ]
  },
  {
   "cell_type": "markdown",
   "metadata": {},
   "source": [
    "In this tutorial I will show how to skullstrip multiple files."
   ]
  },
  {
   "cell_type": "code",
   "execution_count": 4,
   "metadata": {
    "collapsed": true
   },
   "outputs": [],
   "source": [
    "a=2"
   ]
  },
  {
   "cell_type": "code",
   "execution_count": 5,
   "metadata": {},
   "outputs": [
    {
     "ename": "SyntaxError",
     "evalue": "Missing parentheses in call to 'print'. Did you mean print(a)? (<ipython-input-5-9d7b17ad5387>, line 1)",
     "output_type": "error",
     "traceback": [
      "\u001b[0;36m  File \u001b[0;32m\"<ipython-input-5-9d7b17ad5387>\"\u001b[0;36m, line \u001b[0;32m1\u001b[0m\n\u001b[0;31m    print a\u001b[0m\n\u001b[0m          ^\u001b[0m\n\u001b[0;31mSyntaxError\u001b[0m\u001b[0;31m:\u001b[0m Missing parentheses in call to 'print'. Did you mean print(a)?\n"
     ]
    }
   ],
   "source": [
    "print a"
   ]
  },
  {
   "cell_type": "code",
   "execution_count": 6,
   "metadata": {},
   "outputs": [
    {
     "name": "stdout",
     "output_type": "stream",
     "text": [
      "2\n"
     ]
    }
   ],
   "source": [
    "print (a)"
   ]
  },
  {
   "cell_type": "markdown",
   "metadata": {},
   "source": [
    "This is another line."
   ]
  },
  {
   "cell_type": "code",
   "execution_count": 40,
   "metadata": {
    "collapsed": true
   },
   "outputs": [],
   "source": [
    "from subprocess import check_call\n",
    "from glob import glob\n",
    "import os.path"
   ]
  },
  {
   "cell_type": "code",
   "execution_count": 8,
   "metadata": {},
   "outputs": [
    {
     "data": {
      "text/plain": [
       "['anaconda3',\n",
       " 'Applications',\n",
       " 'Desktop',\n",
       " 'Documents',\n",
       " 'Downloads',\n",
       " 'Dropbox',\n",
       " 'fmri_workshop',\n",
       " 'Library',\n",
       " 'Movies',\n",
       " 'Music',\n",
       " 'Pictures',\n",
       " 'Public',\n",
       " 'Scripts',\n",
       " 'Scripts.fsf',\n",
       " 'Scripts.min',\n",
       " 'Untitled Folder',\n",
       " 'Untitled.ipynb']"
      ]
     },
     "execution_count": 8,
     "metadata": {},
     "output_type": "execute_result"
    }
   ],
   "source": [
    "glob.glob(\"*\")"
   ]
  },
  {
   "cell_type": "code",
   "execution_count": 9,
   "metadata": {
    "collapsed": true
   },
   "outputs": [],
   "source": [
    "from glob import glob"
   ]
  },
  {
   "cell_type": "code",
   "execution_count": 21,
   "metadata": {},
   "outputs": [],
   "source": [
    "t1w=\"/Users/saraappleton-knapp/Documents/CHEAR/fMRI_workshop/data1/sub-10159/anat/sub-10159_T1w.nii.gz\""
   ]
  },
  {
   "cell_type": "code",
   "execution_count": 14,
   "metadata": {},
   "outputs": [
    {
     "ename": "NameError",
     "evalue": "name 'raccoon' is not defined",
     "output_type": "error",
     "traceback": [
      "\u001b[0;31m---------------------------------------------------------------------------\u001b[0m",
      "\u001b[0;31mNameError\u001b[0m                                 Traceback (most recent call last)",
      "\u001b[0;32m<ipython-input-14-b05a7eb4740f>\u001b[0m in \u001b[0;36m<module>\u001b[0;34m()\u001b[0m\n\u001b[0;32m----> 1\u001b[0;31m \u001b[0mraccoon\u001b[0m\u001b[0;34m\u001b[0m\u001b[0m\n\u001b[0m",
      "\u001b[0;31mNameError\u001b[0m: name 'raccoon' is not defined"
     ]
    }
   ],
   "source": [
    "raccoon"
   ]
  },
  {
   "cell_type": "code",
   "execution_count": 15,
   "metadata": {},
   "outputs": [
    {
     "ename": "SyntaxError",
     "evalue": "invalid syntax (<ipython-input-15-0e8e763e21d6>, line 1)",
     "output_type": "error",
     "traceback": [
      "\u001b[0;36m  File \u001b[0;32m\"<ipython-input-15-0e8e763e21d6>\"\u001b[0;36m, line \u001b[0;32m1\u001b[0m\n\u001b[0;31m    check_call racoon\u001b[0m\n\u001b[0m                    ^\u001b[0m\n\u001b[0;31mSyntaxError\u001b[0m\u001b[0;31m:\u001b[0m invalid syntax\n"
     ]
    }
   ],
   "source": [
    "check_call racoon"
   ]
  },
  {
   "cell_type": "code",
   "execution_count": 16,
   "metadata": {},
   "outputs": [
    {
     "ename": "SyntaxError",
     "evalue": "invalid syntax (<ipython-input-16-e07b6645e7c6>, line 1)",
     "output_type": "error",
     "traceback": [
      "\u001b[0;36m  File \u001b[0;32m\"<ipython-input-16-e07b6645e7c6>\"\u001b[0;36m, line \u001b[0;32m1\u001b[0m\n\u001b[0;31m    check_call \"racoon\"\u001b[0m\n\u001b[0m                      ^\u001b[0m\n\u001b[0;31mSyntaxError\u001b[0m\u001b[0;31m:\u001b[0m invalid syntax\n"
     ]
    }
   ],
   "source": [
    "check_call \"racoon\""
   ]
  },
  {
   "cell_type": "code",
   "execution_count": 17,
   "metadata": {},
   "outputs": [
    {
     "ename": "NameError",
     "evalue": "name 'check_call' is not defined",
     "output_type": "error",
     "traceback": [
      "\u001b[0;31m---------------------------------------------------------------------------\u001b[0m",
      "\u001b[0;31mNameError\u001b[0m                                 Traceback (most recent call last)",
      "\u001b[0;32m<ipython-input-17-f99282f439f3>\u001b[0m in \u001b[0;36m<module>\u001b[0;34m()\u001b[0m\n\u001b[0;32m----> 1\u001b[0;31m \u001b[0mcheck_call\u001b[0m\u001b[0;34m(\u001b[0m\u001b[0;34m\"racoon\"\u001b[0m\u001b[0;34m)\u001b[0m\u001b[0;34m\u001b[0m\u001b[0m\n\u001b[0m",
      "\u001b[0;31mNameError\u001b[0m: name 'check_call' is not defined"
     ]
    }
   ],
   "source": [
    "check_call(\"racoon\")"
   ]
  },
  {
   "cell_type": "code",
   "execution_count": 18,
   "metadata": {},
   "outputs": [
    {
     "name": "stdout",
     "output_type": "stream",
     "text": [
      "\r\n",
      "Usage:    bet <input> <output> [options]\r\n",
      "\r\n",
      "Main bet2 options:\r\n",
      "  -o          generate brain surface outline overlaid onto original image\r\n",
      "  -m          generate binary brain mask\r\n",
      "  -s          generate approximate skull image\r\n",
      "  -n          don't generate segmented brain image output\r\n",
      "  -f <f>      fractional intensity threshold (0->1); default=0.5; smaller values give larger brain outline estimates\r\n",
      "  -g <g>      vertical gradient in fractional intensity threshold (-1->1); default=0; positive values give larger brain outline at bottom, smaller at top\r\n",
      "  -r <r>      head radius (mm not voxels); initial surface sphere is set to half of this\r\n",
      "  -c <x y z>  centre-of-gravity (voxels not mm) of initial mesh surface.\r\n",
      "  -t          apply thresholding to segmented brain image and mask\r\n",
      "  -e          generates brain surface as mesh in .vtk format\r\n",
      "\r\n",
      "Variations on default bet2 functionality (mutually exclusive options):\r\n",
      "  (default)   just run bet2\r\n",
      "  -R          robust brain centre estimation (iterates BET several times)\r\n",
      "  -S          eye & optic nerve cleanup (can be useful in SIENA)\r\n",
      "  -B          bias field & neck cleanup (can be useful in SIENA)\r\n",
      "  -Z          improve BET if FOV is very small in Z (by temporarily padding end slices)\r\n",
      "  -F          apply to 4D FMRI data (uses -f 0.3 and dilates brain mask slightly)\r\n",
      "  -A          run bet2 and then betsurf to get additional skull and scalp surfaces (includes registrations)\r\n",
      "  -A2 <T2>    as with -A, when also feeding in non-brain-extracted T2 (includes registrations)\r\n",
      "\r\n",
      "Miscellaneous options:\r\n",
      "  -v          verbose (switch on diagnostic messages)\r\n",
      "  -h          display this help, then exits\r\n",
      "  -d          debug (don't delete temporary intermediate images)\r\n",
      "\r\n"
     ]
    }
   ],
   "source": [
    "!bet"
   ]
  },
  {
   "cell_type": "code",
   "execution_count": 50,
   "metadata": {},
   "outputs": [
    {
     "name": "stdout",
     "output_type": "stream",
     "text": [
      "bet /Users/saraappleton-knapp/Documents/CHEAR/fMRI_workshop/data1/sub-10159/anat/sub-10159_T1w.nii.gz /tmp/brain_sub-10159_T1w -m\n",
      "bet /Users/saraappleton-knapp/Documents/CHEAR/fMRI_workshop/data1/sub-10171/anat/sub-10171_T1w.nii.gz /tmp/brain_sub-10171_T1w -m\n",
      "bet /Users/saraappleton-knapp/Documents/CHEAR/fMRI_workshop/data1/sub-10189/anat/sub-10189_T1w.nii.gz /tmp/brain_sub-10189_T1w -m\n",
      "bet /Users/saraappleton-knapp/Documents/CHEAR/fMRI_workshop/data1/sub-10193/anat/sub-10193_T1w.nii.gz /tmp/brain_sub-10193_T1w -m\n",
      "bet /Users/saraappleton-knapp/Documents/CHEAR/fMRI_workshop/data1/sub-10206/anat/sub-10206_T1w.nii.gz /tmp/brain_sub-10206_T1w -m\n",
      "bet /Users/saraappleton-knapp/Documents/CHEAR/fMRI_workshop/data1/sub-10217/anat/sub-10217_T1w.nii.gz /tmp/brain_sub-10217_T1w -m\n",
      "bet /Users/saraappleton-knapp/Documents/CHEAR/fMRI_workshop/data1/sub-10225/anat/sub-10225_T1w.nii.gz /tmp/brain_sub-10225_T1w -m\n",
      "bet /Users/saraappleton-knapp/Documents/CHEAR/fMRI_workshop/data1/sub-10227/anat/sub-10227_T1w.nii.gz /tmp/brain_sub-10227_T1w -m\n",
      "bet /Users/saraappleton-knapp/Documents/CHEAR/fMRI_workshop/data1/sub-10228/anat/sub-10228_T1w.nii.gz /tmp/brain_sub-10228_T1w -m\n",
      "bet /Users/saraappleton-knapp/Documents/CHEAR/fMRI_workshop/data1/sub-10235/anat/sub-10235_T1w.nii.gz /tmp/brain_sub-10235_T1w -m\n",
      "bet /Users/saraappleton-knapp/Documents/CHEAR/fMRI_workshop/data1/sub-10249/anat/sub-10249_T1w.nii.gz /tmp/brain_sub-10249_T1w -m\n",
      "bet /Users/saraappleton-knapp/Documents/CHEAR/fMRI_workshop/data1/sub-10269/anat/sub-10269_T1w.nii.gz /tmp/brain_sub-10269_T1w -m\n",
      "bet /Users/saraappleton-knapp/Documents/CHEAR/fMRI_workshop/data1/sub-10271/anat/sub-10271_T1w.nii.gz /tmp/brain_sub-10271_T1w -m\n",
      "bet /Users/saraappleton-knapp/Documents/CHEAR/fMRI_workshop/data1/sub-10273/anat/sub-10273_T1w.nii.gz /tmp/brain_sub-10273_T1w -m\n",
      "bet /Users/saraappleton-knapp/Documents/CHEAR/fMRI_workshop/data1/sub-10274/anat/sub-10274_T1w.nii.gz /tmp/brain_sub-10274_T1w -m\n",
      "bet /Users/saraappleton-knapp/Documents/CHEAR/fMRI_workshop/data1/sub-10280/anat/sub-10280_T1w.nii.gz /tmp/brain_sub-10280_T1w -m\n",
      "bet /Users/saraappleton-knapp/Documents/CHEAR/fMRI_workshop/data1/sub-10290/anat/sub-10290_T1w.nii.gz /tmp/brain_sub-10290_T1w -m\n",
      "bet /Users/saraappleton-knapp/Documents/CHEAR/fMRI_workshop/data1/sub-10292/anat/sub-10292_T1w.nii.gz /tmp/brain_sub-10292_T1w -m\n"
     ]
    }
   ],
   "source": [
    "output_dir= \"/tmp\"\n",
    "for input_file in glob(\"/Users/saraappleton-knapp/Documents/CHEAR/fMRI_workshop/data1/sub-10*/anat/*_T1w.nii.gz\"):\n",
    "    my_cmd_template=\"bet {input_file} {output_file} -m\"\n",
    "    directory, file_name = os.path.split(input_file)\n",
    "    list_of_tokens = file_name.split(\".\")\n",
    "    out_file_name=\"brain_\" + list_of_tokens[0]\n",
    "    out_path=os.path.join(output_dir, out_file_name)\n",
    "    cmd = my_cmd_template.format(input_file=input_file, output_file=out_path)\n",
    "    print(cmd)\n",
    "    check_call(cmd, shell=True)"
   ]
  },
  {
   "cell_type": "code",
   "execution_count": 24,
   "metadata": {},
   "outputs": [
    {
     "name": "stdout",
     "output_type": "stream",
     "text": [
      "/tmp/sub-10159_T1w_brain.nii.gz\r\n"
     ]
    }
   ],
   "source": [
    "!ls /tmp/sub-10159_T1w_brain.nii.gz"
   ]
  },
  {
   "cell_type": "code",
   "execution_count": 29,
   "metadata": {},
   "outputs": [
    {
     "data": {
      "text/plain": [
       "'sub-10159_T1w.nii.gz'"
      ]
     },
     "execution_count": 29,
     "metadata": {},
     "output_type": "execute_result"
    }
   ],
   "source": [
    "directory, file_name = os.path.split(\"/Users/saraappleton-knapp/Documents/CHEAR/fMRI_workshop/data1/sub-10159/sub-10159_T1w.nii.gz\")\n",
    "file_name"
   ]
  },
  {
   "cell_type": "code",
   "execution_count": 33,
   "metadata": {},
   "outputs": [
    {
     "data": {
      "text/plain": [
       "'sub-10159_T1w'"
      ]
     },
     "execution_count": 33,
     "metadata": {},
     "output_type": "execute_result"
    }
   ],
   "source": [
    "list_of_tokens = \"sub-10159_T1w.nii.gz\".split(\".\")\n",
    "list_of_tokens[0]"
   ]
  },
  {
   "cell_type": "code",
   "execution_count": null,
   "metadata": {
    "collapsed": true
   },
   "outputs": [],
   "source": []
  }
 ],
 "metadata": {
  "kernelspec": {
   "display_name": "Python 3",
   "language": "python",
   "name": "python3"
  },
  "language_info": {
   "codemirror_mode": {
    "name": "ipython",
    "version": 3
   },
   "file_extension": ".py",
   "mimetype": "text/x-python",
   "name": "python",
   "nbconvert_exporter": "python",
   "pygments_lexer": "ipython3",
   "version": "3.6.3"
  }
 },
 "nbformat": 4,
 "nbformat_minor": 2
}
